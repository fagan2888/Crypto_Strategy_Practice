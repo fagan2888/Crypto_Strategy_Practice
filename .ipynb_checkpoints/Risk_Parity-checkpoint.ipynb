{
 "cells": [
  {
   "cell_type": "code",
   "execution_count": 169,
   "metadata": {},
   "outputs": [],
   "source": [
    "import numpy as np\n",
    "import pandas as pd\n",
    "from matplotlib import pyplot as plt\n",
    "import math\n",
    "from statsmodels.tsa.stattools import adfuller\n",
    "import statsmodels.api as sm\n",
    "from datetime import date\n",
    "\n",
    "import seaborn as sns\n",
    "\n",
    "%matplotlib inline"
   ]
  },
  {
   "cell_type": "code",
   "execution_count": 7,
   "metadata": {},
   "outputs": [],
   "source": [
    "from crycompare import *"
   ]
  },
  {
   "cell_type": "markdown",
   "metadata": {},
   "source": [
    "### Get list of all coins"
   ]
  },
  {
   "cell_type": "code",
   "execution_count": 8,
   "metadata": {},
   "outputs": [
    {
     "data": {
      "text/plain": [
       "['007', '1337', '1CR', '1ST', '2015']"
      ]
     },
     "execution_count": 8,
     "metadata": {},
     "output_type": "execute_result"
    }
   ],
   "source": [
    "p = Price()\n",
    "\n",
    "coinList = p.coinList()\n",
    "coins = sorted(list( coinList['Data'].keys() ))\n",
    "coins[:5]"
   ]
  },
  {
   "cell_type": "code",
   "execution_count": 27,
   "metadata": {},
   "outputs": [
    {
     "data": {
      "text/plain": [
       "[True, True, True, True, True, True]"
      ]
     },
     "execution_count": 27,
     "metadata": {},
     "output_type": "execute_result"
    }
   ],
   "source": [
    "# coins_to_check = ['BTC', 'ETH', 'LTC', 'ARK']\n",
    "coins_to_check = ['BTC', 'ETH', 'LTC', 'ARK', 'XMR', 'VTC']\n",
    "[x in coins for x in coins_to_check]"
   ]
  },
  {
   "cell_type": "markdown",
   "metadata": {},
   "source": [
    "### Get historical price data"
   ]
  },
  {
   "cell_type": "code",
   "execution_count": 28,
   "metadata": {},
   "outputs": [],
   "source": [
    "h = History()\n",
    "\n",
    "df_dict = {}\n",
    "for coin in coins_to_check:\n",
    "    histo = h.histoDay(coin,'USD',allData=True)\n",
    "    if histo['Data']:\n",
    "        df_histo = pd.DataFrame(histo['Data'])\n",
    "        df_histo['time'] = pd.to_datetime(df_histo['time'],unit='s')\n",
    "        df_histo.index = df_histo['time']\n",
    "        del df_histo['time']\n",
    "        del df_histo['volumefrom']\n",
    "        del df_histo['volumeto']\n",
    "        \n",
    "        df_dict[coin] = df_histo"
   ]
  },
  {
   "cell_type": "code",
   "execution_count": 29,
   "metadata": {},
   "outputs": [
    {
     "data": {
      "text/plain": [
       "dict_keys(['BTC', 'ETH', 'LTC', 'XMR'])"
      ]
     },
     "execution_count": 29,
     "metadata": {},
     "output_type": "execute_result"
    }
   ],
   "source": [
    "df_dict.keys()"
   ]
  },
  {
   "cell_type": "code",
   "execution_count": 30,
   "metadata": {},
   "outputs": [
    {
     "name": "stdout",
     "output_type": "stream",
     "text": [
      "BTC\n",
      "ETH\n",
      "LTC\n",
      "XMR\n"
     ]
    },
    {
     "data": {
      "text/html": [
       "<div>\n",
       "<style>\n",
       "    .dataframe thead tr:only-child th {\n",
       "        text-align: right;\n",
       "    }\n",
       "\n",
       "    .dataframe thead th {\n",
       "        text-align: left;\n",
       "    }\n",
       "\n",
       "    .dataframe tbody tr th {\n",
       "        vertical-align: top;\n",
       "    }\n",
       "</style>\n",
       "<table border=\"1\" class=\"dataframe\">\n",
       "  <thead>\n",
       "    <tr style=\"text-align: right;\">\n",
       "      <th></th>\n",
       "      <th>BTC</th>\n",
       "      <th>ETH</th>\n",
       "      <th>LTC</th>\n",
       "      <th>XMR</th>\n",
       "    </tr>\n",
       "    <tr>\n",
       "      <th>time</th>\n",
       "      <th></th>\n",
       "      <th></th>\n",
       "      <th></th>\n",
       "      <th></th>\n",
       "    </tr>\n",
       "  </thead>\n",
       "  <tbody>\n",
       "    <tr>\n",
       "      <th>2017-10-22</th>\n",
       "      <td>5982.86</td>\n",
       "      <td>294.03</td>\n",
       "      <td>56.51</td>\n",
       "      <td>86.51</td>\n",
       "    </tr>\n",
       "    <tr>\n",
       "      <th>2017-10-23</th>\n",
       "      <td>5903.61</td>\n",
       "      <td>285.27</td>\n",
       "      <td>54.63</td>\n",
       "      <td>85.17</td>\n",
       "    </tr>\n",
       "    <tr>\n",
       "      <th>2017-10-24</th>\n",
       "      <td>5513.08</td>\n",
       "      <td>296.50</td>\n",
       "      <td>55.56</td>\n",
       "      <td>88.03</td>\n",
       "    </tr>\n",
       "    <tr>\n",
       "      <th>2017-10-25</th>\n",
       "      <td>5734.00</td>\n",
       "      <td>296.35</td>\n",
       "      <td>56.19</td>\n",
       "      <td>87.08</td>\n",
       "    </tr>\n",
       "    <tr>\n",
       "      <th>2017-10-26</th>\n",
       "      <td>5929.85</td>\n",
       "      <td>297.00</td>\n",
       "      <td>56.24</td>\n",
       "      <td>88.02</td>\n",
       "    </tr>\n",
       "  </tbody>\n",
       "</table>\n",
       "</div>"
      ],
      "text/plain": [
       "                BTC     ETH    LTC    XMR\n",
       "time                                     \n",
       "2017-10-22  5982.86  294.03  56.51  86.51\n",
       "2017-10-23  5903.61  285.27  54.63  85.17\n",
       "2017-10-24  5513.08  296.50  55.56  88.03\n",
       "2017-10-25  5734.00  296.35  56.19  87.08\n",
       "2017-10-26  5929.85  297.00  56.24  88.02"
      ]
     },
     "execution_count": 30,
     "metadata": {},
     "output_type": "execute_result"
    }
   ],
   "source": [
    "df = pd.DataFrame()\n",
    "df['BTC'] = df_dict['BTC']['close']\n",
    "for key, value in df_dict.items():\n",
    "    print(key)\n",
    "    if key == 'BTC':\n",
    "        continue\n",
    "    df[key] = value['close']\n",
    "\n",
    "df.fillna(value=0, inplace=True)\n",
    "df.tail()"
   ]
  },
  {
   "cell_type": "code",
   "execution_count": 105,
   "metadata": {},
   "outputs": [
    {
     "name": "stderr",
     "output_type": "stream",
     "text": [
      "C:\\ProgramData\\Anaconda3\\lib\\site-packages\\ipykernel_launcher.py:1: RuntimeWarning: divide by zero encountered in true_divide\n",
      "  \"\"\"Entry point for launching an IPython kernel.\n",
      "C:\\ProgramData\\Anaconda3\\lib\\site-packages\\ipykernel_launcher.py:1: RuntimeWarning: invalid value encountered in true_divide\n",
      "  \"\"\"Entry point for launching an IPython kernel.\n"
     ]
    },
    {
     "data": {
      "text/html": [
       "<div>\n",
       "<style>\n",
       "    .dataframe thead tr:only-child th {\n",
       "        text-align: right;\n",
       "    }\n",
       "\n",
       "    .dataframe thead th {\n",
       "        text-align: left;\n",
       "    }\n",
       "\n",
       "    .dataframe tbody tr th {\n",
       "        vertical-align: top;\n",
       "    }\n",
       "</style>\n",
       "<table border=\"1\" class=\"dataframe\">\n",
       "  <thead>\n",
       "    <tr style=\"text-align: right;\">\n",
       "      <th></th>\n",
       "      <th>BTC</th>\n",
       "      <th>ETH</th>\n",
       "      <th>LTC</th>\n",
       "      <th>XMR</th>\n",
       "    </tr>\n",
       "    <tr>\n",
       "      <th>time</th>\n",
       "      <th></th>\n",
       "      <th></th>\n",
       "      <th></th>\n",
       "      <th></th>\n",
       "    </tr>\n",
       "  </thead>\n",
       "  <tbody>\n",
       "    <tr>\n",
       "      <th>2010-07-17</th>\n",
       "      <td>0.733791</td>\n",
       "      <td>NaN</td>\n",
       "      <td>NaN</td>\n",
       "      <td>NaN</td>\n",
       "    </tr>\n",
       "    <tr>\n",
       "      <th>2010-07-18</th>\n",
       "      <td>-0.058714</td>\n",
       "      <td>NaN</td>\n",
       "      <td>NaN</td>\n",
       "      <td>NaN</td>\n",
       "    </tr>\n",
       "    <tr>\n",
       "      <th>2010-07-19</th>\n",
       "      <td>-0.075000</td>\n",
       "      <td>NaN</td>\n",
       "      <td>NaN</td>\n",
       "      <td>NaN</td>\n",
       "    </tr>\n",
       "    <tr>\n",
       "      <th>2010-07-20</th>\n",
       "      <td>0.059807</td>\n",
       "      <td>NaN</td>\n",
       "      <td>NaN</td>\n",
       "      <td>NaN</td>\n",
       "    </tr>\n",
       "    <tr>\n",
       "      <th>2010-07-21</th>\n",
       "      <td>-0.362454</td>\n",
       "      <td>NaN</td>\n",
       "      <td>NaN</td>\n",
       "      <td>NaN</td>\n",
       "    </tr>\n",
       "  </tbody>\n",
       "</table>\n",
       "</div>"
      ],
      "text/plain": [
       "                 BTC  ETH  LTC  XMR\n",
       "time                               \n",
       "2010-07-17  0.733791  NaN  NaN  NaN\n",
       "2010-07-18 -0.058714  NaN  NaN  NaN\n",
       "2010-07-19 -0.075000  NaN  NaN  NaN\n",
       "2010-07-20  0.059807  NaN  NaN  NaN\n",
       "2010-07-21 -0.362454  NaN  NaN  NaN"
      ]
     },
     "execution_count": 105,
     "metadata": {},
     "output_type": "execute_result"
    }
   ],
   "source": [
    "df_ret = df[1:].values / df[:-1] - 1\n",
    "df_ret.head()"
   ]
  },
  {
   "cell_type": "code",
   "execution_count": 106,
   "metadata": {},
   "outputs": [
    {
     "name": "stderr",
     "output_type": "stream",
     "text": [
      "C:\\ProgramData\\Anaconda3\\lib\\site-packages\\ipykernel_launcher.py:3: RuntimeWarning: divide by zero encountered in log\n",
      "  This is separate from the ipykernel package so we can avoid doing imports until\n",
      "C:\\ProgramData\\Anaconda3\\lib\\site-packages\\numpy\\lib\\function_base.py:1768: RuntimeWarning: invalid value encountered in subtract\n",
      "  return a[slice1]-a[slice2]\n"
     ]
    },
    {
     "data": {
      "text/html": [
       "<div>\n",
       "<style>\n",
       "    .dataframe thead tr:only-child th {\n",
       "        text-align: right;\n",
       "    }\n",
       "\n",
       "    .dataframe thead th {\n",
       "        text-align: left;\n",
       "    }\n",
       "\n",
       "    .dataframe tbody tr th {\n",
       "        vertical-align: top;\n",
       "    }\n",
       "</style>\n",
       "<table border=\"1\" class=\"dataframe\">\n",
       "  <thead>\n",
       "    <tr style=\"text-align: right;\">\n",
       "      <th></th>\n",
       "      <th>BTC</th>\n",
       "      <th>ETH</th>\n",
       "      <th>LTC</th>\n",
       "      <th>XMR</th>\n",
       "    </tr>\n",
       "    <tr>\n",
       "      <th>time</th>\n",
       "      <th></th>\n",
       "      <th></th>\n",
       "      <th></th>\n",
       "      <th></th>\n",
       "    </tr>\n",
       "  </thead>\n",
       "  <tbody>\n",
       "    <tr>\n",
       "      <th>2017-10-22</th>\n",
       "      <td>-0.003968</td>\n",
       "      <td>-0.018600</td>\n",
       "      <td>-0.027576</td>\n",
       "      <td>-0.017531</td>\n",
       "    </tr>\n",
       "    <tr>\n",
       "      <th>2017-10-23</th>\n",
       "      <td>-0.013335</td>\n",
       "      <td>-0.030246</td>\n",
       "      <td>-0.033834</td>\n",
       "      <td>-0.015611</td>\n",
       "    </tr>\n",
       "    <tr>\n",
       "      <th>2017-10-24</th>\n",
       "      <td>-0.068441</td>\n",
       "      <td>0.038611</td>\n",
       "      <td>0.016880</td>\n",
       "      <td>0.033028</td>\n",
       "    </tr>\n",
       "    <tr>\n",
       "      <th>2017-10-25</th>\n",
       "      <td>0.039290</td>\n",
       "      <td>-0.000506</td>\n",
       "      <td>0.011275</td>\n",
       "      <td>-0.010850</td>\n",
       "    </tr>\n",
       "    <tr>\n",
       "      <th>2017-10-26</th>\n",
       "      <td>0.033586</td>\n",
       "      <td>0.002191</td>\n",
       "      <td>0.000889</td>\n",
       "      <td>0.010737</td>\n",
       "    </tr>\n",
       "  </tbody>\n",
       "</table>\n",
       "</div>"
      ],
      "text/plain": [
       "                 BTC       ETH       LTC       XMR\n",
       "time                                              \n",
       "2017-10-22 -0.003968 -0.018600 -0.027576 -0.017531\n",
       "2017-10-23 -0.013335 -0.030246 -0.033834 -0.015611\n",
       "2017-10-24 -0.068441  0.038611  0.016880  0.033028\n",
       "2017-10-25  0.039290 -0.000506  0.011275 -0.010850\n",
       "2017-10-26  0.033586  0.002191  0.000889  0.010737"
      ]
     },
     "execution_count": 106,
     "metadata": {},
     "output_type": "execute_result"
    }
   ],
   "source": [
    "df_log = pd.DataFrame()\n",
    "for coin in df.columns:\n",
    "    df_log[coin] = np.diff(np.log(df[coin]))\n",
    "    df_log[coin].replace(-np.Inf, 0, inplace=True)\n",
    "    df_log[coin].replace(np.Inf, 0, inplace=True)\n",
    "\n",
    "df_log.index = df.index[1:]\n",
    "# df_log.fillna(value=0, inplace=True)\n",
    "df_log.tail()"
   ]
  },
  {
   "cell_type": "code",
   "execution_count": 124,
   "metadata": {},
   "outputs": [
    {
     "data": {
      "text/plain": [
       "<matplotlib.axes._subplots.AxesSubplot at 0x10d1c438>"
      ]
     },
     "execution_count": 124,
     "metadata": {},
     "output_type": "execute_result"
    },
    {
     "data": {
      "image/png": "[encoded data removed]",
      "text/plain": [
       "<matplotlib.figure.Figure at 0x10e93470>"
      ]
     },
     "metadata": {},
     "output_type": "display_data"
    }
   ],
   "source": [
    "corr_mtx = df_log.corr()\n",
    "sns.heatmap(corr_mtx,annot=True)"
   ]
  },
  {
   "cell_type": "markdown",
   "metadata": {},
   "source": [
    "### Equal Weight Portfolio"
   ]
  },
  {
   "cell_type": "code",
   "execution_count": 125,
   "metadata": {},
   "outputs": [
    {
     "data": {
      "text/plain": [
       "[0.25, 0.25, 0.25, 0.25]"
      ]
     },
     "execution_count": 125,
     "metadata": {},
     "output_type": "execute_result"
    }
   ],
   "source": [
    "weights = [1/df.shape[1]] * df.shape[1]\n",
    "weights"
   ]
  },
  {
   "cell_type": "code",
   "execution_count": 126,
   "metadata": {
    "scrolled": false
   },
   "outputs": [],
   "source": [
    "# reomve first row because inifinite return\n",
    "eq_port_ret = (df_ret.dropna(how='any') * weights).sum(axis=1)[1:]\n",
    "\n",
    "eq_port_cum_ret = (1 + eq_port_ret).cumprod() - 1"
   ]
  },
  {
   "cell_type": "code",
   "execution_count": 127,
   "metadata": {},
   "outputs": [
    {
     "data": {
      "text/plain": [
       "<matplotlib.axes._subplots.AxesSubplot at 0x11012438>"
      ]
     },
     "execution_count": 127,
     "metadata": {},
     "output_type": "execute_result"
    },
    {
     "data": {
      "image/png": "[encoded data removed]",
      "text/plain": [
       "<matplotlib.figure.Figure at 0x11069240>"
      ]
     },
     "metadata": {},
     "output_type": "display_data"
    }
   ],
   "source": [
    "((1+eq_port_ret).cumprod() - 1).plot()"
   ]
  },
  {
   "cell_type": "code",
   "execution_count": 128,
   "metadata": {},
   "outputs": [
    {
     "name": "stdout",
     "output_type": "stream",
     "text": [
      "2015-08-07 00:00:00\n",
      "\n",
      "BTC    277.89\n",
      "ETH      3.00\n",
      "LTC      4.10\n",
      "XMR      0.75\n",
      "Name: 2015-08-07 00:00:00, dtype: float64\n",
      "\n",
      "BTC   -0.069416\n",
      "ETH   -0.600000\n",
      "LTC   -0.080488\n",
      "XMR    0.000000\n",
      "Name: 2015-08-07 00:00:00, dtype: float64\n"
     ]
    }
   ],
   "source": [
    "print('{}\\n\\n{}\\n\\n{}'.format(eq_port_ret.index[0], \n",
    "                              df.loc[eq_port_ret.index[0]], \n",
    "                              df_ret.loc[eq_port_ret.index[0]]))"
   ]
  },
  {
   "cell_type": "markdown",
   "metadata": {},
   "source": [
    "### Risk-Parity Portfolio"
   ]
  },
  {
   "cell_type": "code",
   "execution_count": 131,
   "metadata": {},
   "outputs": [
    {
     "data": {
      "text/plain": [
       "<matplotlib.axes._subplots.AxesSubplot at 0x111558d0>"
      ]
     },
     "execution_count": 131,
     "metadata": {},
     "output_type": "execute_result"
    },
    {
     "data": {
      "image/png": "[encoded data removed]",
      "text/plain": [
       "<matplotlib.figure.Figure at 0x111628d0>"
      ]
     },
     "metadata": {},
     "output_type": "display_data"
    }
   ],
   "source": [
    "df_std = df_ret.rolling(window=52).std()\n",
    "df_std.plot()"
   ]
  },
  {
   "cell_type": "code",
   "execution_count": 135,
   "metadata": {},
   "outputs": [],
   "source": [
    "df_std.dropna(how='any', inplace=True)"
   ]
  },
  {
   "cell_type": "code",
   "execution_count": 136,
   "metadata": {},
   "outputs": [
    {
     "data": {
      "text/html": [
       "<div>\n",
       "<style>\n",
       "    .dataframe thead tr:only-child th {\n",
       "        text-align: right;\n",
       "    }\n",
       "\n",
       "    .dataframe thead th {\n",
       "        text-align: left;\n",
       "    }\n",
       "\n",
       "    .dataframe tbody tr th {\n",
       "        vertical-align: top;\n",
       "    }\n",
       "</style>\n",
       "<table border=\"1\" class=\"dataframe\">\n",
       "  <thead>\n",
       "    <tr style=\"text-align: right;\">\n",
       "      <th></th>\n",
       "      <th>BTC</th>\n",
       "      <th>ETH</th>\n",
       "      <th>LTC</th>\n",
       "      <th>XMR</th>\n",
       "    </tr>\n",
       "    <tr>\n",
       "      <th>time</th>\n",
       "      <th></th>\n",
       "      <th></th>\n",
       "      <th></th>\n",
       "      <th></th>\n",
       "    </tr>\n",
       "  </thead>\n",
       "  <tbody>\n",
       "    <tr>\n",
       "      <th>2015-09-27</th>\n",
       "      <td>0.024583</td>\n",
       "      <td>0.153701</td>\n",
       "      <td>0.038633</td>\n",
       "      <td>0.203889</td>\n",
       "    </tr>\n",
       "    <tr>\n",
       "      <th>2015-09-28</th>\n",
       "      <td>0.022721</td>\n",
       "      <td>0.131198</td>\n",
       "      <td>0.037155</td>\n",
       "      <td>0.203908</td>\n",
       "    </tr>\n",
       "    <tr>\n",
       "      <th>2015-09-29</th>\n",
       "      <td>0.022511</td>\n",
       "      <td>0.131380</td>\n",
       "      <td>0.036908</td>\n",
       "      <td>0.204398</td>\n",
       "    </tr>\n",
       "    <tr>\n",
       "      <th>2015-09-30</th>\n",
       "      <td>0.022530</td>\n",
       "      <td>0.131854</td>\n",
       "      <td>0.036900</td>\n",
       "      <td>0.200001</td>\n",
       "    </tr>\n",
       "    <tr>\n",
       "      <th>2015-10-01</th>\n",
       "      <td>0.022283</td>\n",
       "      <td>0.129622</td>\n",
       "      <td>0.036044</td>\n",
       "      <td>0.201844</td>\n",
       "    </tr>\n",
       "  </tbody>\n",
       "</table>\n",
       "</div>"
      ],
      "text/plain": [
       "                 BTC       ETH       LTC       XMR\n",
       "time                                              \n",
       "2015-09-27  0.024583  0.153701  0.038633  0.203889\n",
       "2015-09-28  0.022721  0.131198  0.037155  0.203908\n",
       "2015-09-29  0.022511  0.131380  0.036908  0.204398\n",
       "2015-09-30  0.022530  0.131854  0.036900  0.200001\n",
       "2015-10-01  0.022283  0.129622  0.036044  0.201844"
      ]
     },
     "execution_count": 136,
     "metadata": {},
     "output_type": "execute_result"
    }
   ],
   "source": [
    "df_std.head()"
   ]
  },
  {
   "cell_type": "code",
   "execution_count": 141,
   "metadata": {},
   "outputs": [
    {
     "data": {
      "text/plain": [
       "time\n",
       "2015-09-27    0.420806\n",
       "2015-09-28    0.394982\n",
       "2015-09-29    0.395197\n",
       "2015-09-30    0.391285\n",
       "2015-10-01    0.389793\n",
       "2015-10-02    0.384840\n",
       "2015-10-03    0.367766\n",
       "2015-10-04    0.359860\n",
       "2015-10-05    0.356750\n",
       "2015-10-06    0.340525\n",
       "2015-10-07    0.334552\n",
       "2015-10-08    0.333470\n",
       "2015-10-09    0.325958\n",
       "2015-10-10    0.316243\n",
       "2015-10-11    0.316171\n",
       "2015-10-12    0.306250\n",
       "2015-10-13    0.304100\n",
       "2015-10-14    0.291560\n",
       "2015-10-15    0.285192\n",
       "2015-10-16    0.286018\n",
       "2015-10-17    0.287215\n",
       "2015-10-18    0.283995\n",
       "2015-10-19    0.283250\n",
       "2015-10-20    0.280882\n",
       "2015-10-21    0.300946\n",
       "2015-10-22    0.300945\n",
       "2015-10-23    0.299309\n",
       "2015-10-24    0.277947\n",
       "2015-10-25    0.265615\n",
       "2015-10-26    0.266629\n",
       "                ...   \n",
       "2017-09-26    0.300227\n",
       "2017-09-27    0.300405\n",
       "2017-09-28    0.299186\n",
       "2017-09-29    0.299483\n",
       "2017-09-30    0.299348\n",
       "2017-10-01    0.298820\n",
       "2017-10-02    0.298278\n",
       "2017-10-03    0.297679\n",
       "2017-10-04    0.296910\n",
       "2017-10-05    0.296030\n",
       "2017-10-06    0.295091\n",
       "2017-10-07    0.295129\n",
       "2017-10-08    0.295610\n",
       "2017-10-09    0.292526\n",
       "2017-10-10    0.292346\n",
       "2017-10-11    0.280371\n",
       "2017-10-12    0.279987\n",
       "2017-10-13    0.278571\n",
       "2017-10-14    0.278017\n",
       "2017-10-15    0.270415\n",
       "2017-10-16    0.261965\n",
       "2017-10-17    0.257488\n",
       "2017-10-18    0.255594\n",
       "2017-10-19    0.254068\n",
       "2017-10-20    0.253943\n",
       "2017-10-21    0.251882\n",
       "2017-10-22    0.246157\n",
       "2017-10-23    0.241026\n",
       "2017-10-24    0.241147\n",
       "2017-10-25    0.230138\n",
       "Length: 760, dtype: float64"
      ]
     },
     "execution_count": 141,
     "metadata": {},
     "output_type": "execute_result"
    }
   ],
   "source": [
    "df_std.sum(axis=1)"
   ]
  },
  {
   "cell_type": "code",
   "execution_count": 156,
   "metadata": {},
   "outputs": [
    {
     "data": {
      "text/plain": [
       "[<matplotlib.lines.Line2D at 0x11b8d198>,\n",
       " <matplotlib.lines.Line2D at 0x11b5a5c0>,\n",
       " <matplotlib.lines.Line2D at 0x11b4bb38>,\n",
       " <matplotlib.lines.Line2D at 0x11b4b0f0>]"
      ]
     },
     "execution_count": 156,
     "metadata": {},
     "output_type": "execute_result"
    },
    {
     "data": {
      "image/png": "[encoded data removed]",
      "text/plain": [
       "<matplotlib.figure.Figure at 0x114f4d68>"
      ]
     },
     "metadata": {},
     "output_type": "display_data"
    }
   ],
   "source": [
    "weights = np.divide(df_std, np.matrix(df_std.sum(axis=1)).transpose())\n",
    "\n",
    "plt.plot(weights)"
   ]
  },
  {
   "cell_type": "code",
   "execution_count": 160,
   "metadata": {},
   "outputs": [],
   "source": [
    "# bump up 52 because set rolling window to 52 days initially\n",
    "rp_port_ret = (df_ret.dropna(how='any')[52:] * weights).sum(axis=1)\n",
    "\n",
    "rp_port_cum_ret = (1 + rp_port_ret).cumprod() - 1"
   ]
  },
  {
   "cell_type": "code",
   "execution_count": 163,
   "metadata": {},
   "outputs": [
    {
     "data": {
      "text/plain": [
       "<matplotlib.legend.Legend at 0x126ac978>"
      ]
     },
     "execution_count": 163,
     "metadata": {},
     "output_type": "execute_result"
    },
    {
     "data": {
      "image/png": "[encoded data removed]",
      "text/plain": [
       "<matplotlib.figure.Figure at 0x126ac9e8>"
      ]
     },
     "metadata": {},
     "output_type": "display_data"
    }
   ],
   "source": [
    "ax = rp_port_cum_ret.plot(label='Risk Parity')\n",
    "eq_port_cum_ret.plot(ax=ax, label='Equal')\n",
    "plt.legend()"
   ]
  },
  {
   "cell_type": "markdown",
   "metadata": {},
   "source": [
    "Risk parity outperforms equal-weight."
   ]
  },
  {
   "cell_type": "code",
   "execution_count": 177,
   "metadata": {},
   "outputs": [
    {
     "name": "stdout",
     "output_type": "stream",
     "text": [
      "Returns on 2017-10-25 00:00:00:\n",
      "Risk-Parity: 50765.67%\n",
      "Equal-Weight: 15602.1%\n"
     ]
    }
   ],
   "source": [
    "print(\n",
    "    'Returns on {}:\\nRisk-Parity: {}%\\nEqual-Weight: {}%'.format(\n",
    "                                                    rp_port_cum_ret.index[-1],\n",
    "                                                    round(rp_port_cum_ret.values[-1]*100, 2),\n",
    "                                                    round(eq_port_cum_ret.values[-1]*100, 2)))"
   ]
  },
  {
   "cell_type": "code",
   "execution_count": null,
   "metadata": {
    "collapsed": true
   },
   "outputs": [],
   "source": []
  }
 ],
 "metadata": {
  "kernelspec": {
   "display_name": "Python 3",
   "language": "python",
   "name": "python3"
  },
  "language_info": {
   "codemirror_mode": {
    "name": "ipython",
    "version": 3
   },
   "file_extension": ".py",
   "mimetype": "text/x-python",
   "name": "python",
   "nbconvert_exporter": "python",
   "pygments_lexer": "ipython3",
   "version": "3.6.1"
  }
 },
 "nbformat": 4,
 "nbformat_minor": 2
}
